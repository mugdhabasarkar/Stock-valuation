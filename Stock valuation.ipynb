{
 "cells": [
  {
   "cell_type": "code",
   "execution_count": 1,
   "id": "f6d99fd9-16be-4f29-95c9-849560824590",
   "metadata": {},
   "outputs": [],
   "source": [
    "import yfinance as yf\n",
    "import numpy as np\n",
    "import pandas as pd\n",
    "import matplotlib.pyplot as plt\n",
    "import statsmodels.api as sm\n",
    "import dash\n",
    "from dash import dcc, html, Input, Output\n",
    "import plotly.graph_objs as go"
   ]
  },
  {
   "cell_type": "code",
   "execution_count": 2,
   "id": "fca9068d-e9ef-4a4e-a357-9b23f473bed3",
   "metadata": {},
   "outputs": [],
   "source": [
    "%load_ext autoreload\n",
    "%autoreload all"
   ]
  },
  {
   "cell_type": "code",
   "execution_count": 3,
   "id": "badb88f8-c597-491f-a8e9-9167356f40fc",
   "metadata": {},
   "outputs": [],
   "source": [
    "# Fetches financial data for a given stock ticker\n",
    "def fetch_financial_data(ticker: str) -> pd.Series:\n",
    "\n",
    "    stock = yf.Ticker(ticker)\n",
    "    cashflow_df = stock.cashflow\n",
    "    key_options = ['Total Cash From Operating Activities', 'Operating Cash Flow']\n",
    "    \n",
    "    # Extract cash flow data if available\n",
    "    for key in key_options:\n",
    "        if key in cashflow_df.index:\n",
    "            return cashflow_df.loc[key][::-1].astype(float)\n",
    "    return pd.Series(dtype=float)"
   ]
  },
  {
   "cell_type": "code",
   "execution_count": 4,
   "id": "c1f44d11-0012-45aa-bb5a-09f7f4298d86",
   "metadata": {},
   "outputs": [],
   "source": [
    "# Calculates intrinsic value using Discounted Cash Flow (DCF) method\n",
    "def dcf_valuation(cashflows: pd.Series, discount_rate: float = 0.1, growth_rate: float = 0.03, terminal_growth: float = 0.02, years: int = 10) -> float:\n",
    "   \n",
    "    if cashflows.empty:\n",
    "        return 0\n",
    "    \n",
    "    last_cashflow = cashflows.iloc[-1]\n",
    "    \n",
    "    # Project future cash flows and discount them to present value\n",
    "    projected_cashflows = [last_cashflow * (1 + growth_rate) ** i / (1 + discount_rate) ** i for i in range(1, years + 1)]\n",
    "    \n",
    "    # Compute and discount the terminal value\n",
    "    terminal_value = (projected_cashflows[-1] * (1 + terminal_growth)) / (discount_rate - terminal_growth)\n",
    "    \n",
    "    return sum(projected_cashflows) + terminal_value / (1 + discount_rate) ** years"
   ]
  },
  {
   "cell_type": "code",
   "execution_count": 5,
   "id": "35304037-fddc-4c4b-a723-ad9590540378",
   "metadata": {},
   "outputs": [],
   "source": [
    "# Computes expected return using CAPM model\n",
    "def capm_model(beta: float, risk_free_rate: float = 0.03, market_return: float = 0.08) -> float:\n",
    "\n",
    "    return risk_free_rate + beta * (market_return - risk_free_rate)"
   ]
  },
  {
   "cell_type": "code",
   "execution_count": 6,
   "id": "af8c3f7d-bc42-4bbf-b524-20f4d445f644",
   "metadata": {},
   "outputs": [],
   "source": [
    "# Incorporates Modigliani-Miller Theorem to analyze leverage impact\n",
    "def modigliani_miller_adjustment(market_cap: float, debt: float, cost_of_debt: float, tax_rate: float = 0.21) -> float:\n",
    "    return market_cap + debt * (1 - tax_rate) - (cost_of_debt * debt)\n",
    "\n",
    "# Fetches stock market capitalization, beta value, current stock price, and total debt\n",
    "def fetch_stock_info(ticker: str):\n",
    "    stock = yf.Ticker(ticker)\n",
    "    market_cap = stock.info.get('marketCap', 0)\n",
    "    beta = stock.info.get('beta', 1)\n",
    "    current_price = stock.info.get('currentPrice', 0)\n",
    "    total_debt = stock.info.get('totalDebt', 0)\n",
    "    cost_of_debt = stock.info.get('yield', 0.05)\n",
    "    return market_cap, beta, current_price, total_debt, cost_of_debt"
   ]
  },
  {
   "cell_type": "code",
   "execution_count": 7,
   "id": "1885be68-b73d-4ab2-9ad6-fdfcad45aba5",
   "metadata": {},
   "outputs": [],
   "source": [
    "# Generates stock price visualization\n",
    "def generate_stock_graph(stock_data: pd.DataFrame, ticker: str):\n",
    "\n",
    "    fig = go.Figure()\n",
    "    fig.add_trace(go.Scatter(x=stock_data.index, y=stock_data['Close'], mode='lines', name='Closing Price'))\n",
    "    fig.update_layout(title=f'{ticker} Stock Price', xaxis_title='Date', yaxis_title='Price (USD)', template='plotly_dark')\n",
    "    return fig"
   ]
  },
  {
   "cell_type": "code",
   "execution_count": 8,
   "id": "5e4f3b86-9379-483b-9937-b49c99c1df0c",
   "metadata": {},
   "outputs": [],
   "source": [
    "# Initialize Dash app\n",
    "app = dash.Dash(__name__)\n",
    "app.layout = html.Div([\n",
    "    html.H1(\"Stock Valuation Dashboard\", style={'textAlign': 'center', 'color': '#ffffff'}),\n",
    "    html.Div([\n",
    "        dcc.Input(id='ticker-input', type='text', placeholder='Enter Stock Ticker', debounce=True, style={'marginRight': '10px'}),\n",
    "        html.Button('Submit', id='submit-button', n_clicks=0, style={'backgroundColor': '#4CAF50', 'color': 'white'})\n",
    "    ], style={'display': 'flex', 'justifyContent': 'center', 'marginBottom': '20px'}),\n",
    "    html.Div(id='valuation-output', style={'textAlign': 'center', 'whiteSpace': 'pre-line', 'color': '#ffffff'}),\n",
    "    dcc.Graph(id='stock-graph')\n",
    "], style={'backgroundColor': '#1e1e1e', 'padding': '20px'})"
   ]
  },
  {
   "cell_type": "code",
   "execution_count": 9,
   "id": "39e8af0d-7dc8-41a7-b6bf-69eb83dd6fea",
   "metadata": {},
   "outputs": [],
   "source": [
    "# Callback function to update dashboard based on user input\n",
    "@app.callback(\n",
    "    [Output('valuation-output', 'children'), Output('stock-graph', 'figure')],\n",
    "    [Input('submit-button', 'n_clicks')],\n",
    "    [dash.State('ticker-input', 'value')]\n",
    ")\n",
    "def update_dashboard(n_clicks: int, ticker: str):\n",
    "    if not ticker:\n",
    "        return \"Enter a valid stock ticker.\", go.Figure()\n",
    "    \n",
    "    stock_data = yf.Ticker(ticker).history(period='5y')\n",
    "    \n",
    "    if stock_data.empty:\n",
    "        return \"Invalid ticker or no data available.\", go.Figure()\n",
    "    \n",
    "    cashflows = fetch_financial_data(ticker)\n",
    "    intrinsic_value = dcf_valuation(cashflows)\n",
    "    market_cap, beta, current_price, total_debt, cost_of_debt = fetch_stock_info(ticker)\n",
    "    expected_return = capm_model(beta)\n",
    "    adjusted_value = modigliani_miller_adjustment(market_cap, total_debt, cost_of_debt)\n",
    "    \n",
    "    advice = \"Consider Investing!\" if adjusted_value > market_cap else \"Be Cautious!\"\n",
    "    \n",
    "    valuation_text = f\"\"\"\n",
    "    Stock Valuation Summary\n",
    "    -----------------------------------\n",
    "    📈 Intrinsic Value (DCF): ${intrinsic_value:,.2f}\n",
    "    💰 Market Cap: ${market_cap:,.2f}\n",
    "    📊 Expected Return (CAPM): {expected_return:.2%}\n",
    "    🏦 Adjusted Market Value (Modigliani-Miller): ${adjusted_value:,.2f}\n",
    "    ✅ Investment Advice: {advice}\n",
    "    \"\"\"\n",
    "    \n",
    "    return valuation_text, generate_stock_graph(stock_data, ticker)"
   ]
  },
  {
   "cell_type": "code",
   "execution_count": 10,
   "id": "e9eb62be-898d-42d2-b480-af229e7fa272",
   "metadata": {},
   "outputs": [
    {
     "data": {
      "text/html": [
       "\n",
       "        <iframe\n",
       "            width=\"100%\"\n",
       "            height=\"650\"\n",
       "            src=\"http://127.0.0.1:8060/\"\n",
       "            frameborder=\"0\"\n",
       "            allowfullscreen\n",
       "            \n",
       "        ></iframe>\n",
       "        "
      ],
      "text/plain": [
       "<IPython.lib.display.IFrame at 0x12144e270>"
      ]
     },
     "metadata": {},
     "output_type": "display_data"
    }
   ],
   "source": [
    "# Run the app\n",
    "if __name__ == '__main__':\n",
    "    app.run_server(port=8060)"
   ]
  },
  {
   "cell_type": "code",
   "execution_count": null,
   "id": "55f0ae22-ff41-477c-825e-a17122523d98",
   "metadata": {},
   "outputs": [],
   "source": []
  }
 ],
 "metadata": {
  "kernelspec": {
   "display_name": "Python 3 (ipykernel)",
   "language": "python",
   "name": "python3"
  },
  "language_info": {
   "codemirror_mode": {
    "name": "ipython",
    "version": 3
   },
   "file_extension": ".py",
   "mimetype": "text/x-python",
   "name": "python",
   "nbconvert_exporter": "python",
   "pygments_lexer": "ipython3",
   "version": "3.13.2"
  }
 },
 "nbformat": 4,
 "nbformat_minor": 5
}
